{
 "cells": [
  {
   "cell_type": "markdown",
   "metadata": {},
   "source": [
    "# 처음 시작 할 때만"
   ]
  },
  {
   "cell_type": "code",
   "execution_count": 1,
   "metadata": {},
   "outputs": [],
   "source": [
    "import pyaudio\n",
    "import wave\n",
    "import requests\n",
    "import json\n",
    "import serial\n",
    "import time\n",
    "apiKey = open('key.txt',\"rt\").read()\n",
    "requestHeader ={\n",
    "   'Ocp-Apim-Subscription-Key' : apiKey,\n",
    "  'Content-type' : 'audio/wav; codec=audio/pcm; samplerate=16000'\n",
    "}\n",
    "URL = 'https://speech.platform.bing.com/speech/recognition/interactive/cognitiveservices/v1?language=ko-KR&format=simple'\n",
    "ser = serial.Serial(port='COM6', baudrate=9600, parity=serial.PARITY_NONE, stopbits=serial.STOPBITS_ONE, bytesize=serial.EIGHTBITS, timeout=0)\n",
    "def makeFile(fileName, sec):\n",
    "    import pyaudio\n",
    "    import wave\n",
    "    po = pyaudio.PyAudio()\n",
    "    for index in range(po.get_device_count()): \n",
    "        desc = po.get_device_info_by_index(index)\n",
    "    CHUNK = 1024\n",
    "    FORMAT = pyaudio.paInt16\n",
    "    CHANNELS = 1\n",
    "    RATE = 16000\n",
    "    RECORD_SECONDS = sec\n",
    "    WAVE_OUTPUT_FILENAME = fileName\n",
    "    p = pyaudio.PyAudio()\n",
    "    stream = p.open(format=FORMAT, channels=CHANNELS, rate=RATE, input=True)\n",
    "\n",
    "    print(\"Start to record the audio.\")\n",
    "    frames = []\n",
    "\n",
    "    for i in range(0, int(RATE / CHUNK * RECORD_SECONDS)):\n",
    "        data = stream.read(CHUNK)\n",
    "        frames.append(data)\n",
    "\n",
    "    print(\"Recording is finished.\")\n",
    "    stream.stop_stream()\n",
    "    stream.close()\n",
    "    p.terminate()\n",
    "\n",
    "    wf = wave.open(WAVE_OUTPUT_FILENAME, 'wb')\n",
    "    wf.setnchannels(CHANNELS)\n",
    "    wf.setsampwidth(p.get_sample_size(FORMAT))\n",
    "    wf.setframerate(RATE)\n",
    "    wf.writeframes(b''.join(frames))\n",
    "    wf.close()"
   ]
  },
  {
   "cell_type": "markdown",
   "metadata": {},
   "source": [
    "# 반복"
   ]
  },
  {
   "cell_type": "code",
   "execution_count": 113,
   "metadata": {},
   "outputs": [
    {
     "name": "stdout",
     "output_type": "stream",
     "text": [
      "Start to record the audio.\n",
      "Recording is finished.\n",
      "이번\n"
     ]
    }
   ],
   "source": [
    "makeFile('output.wav',3)\n",
    "requestBody = open('output.wav','rb').read()\n",
    "response = requests.post(URL, data=requestBody, headers=requestHeader)\n",
    "result = json.loads(response.content.decode('utf-8'))\n",
    "if(result['RecognitionStatus'] != 'NoMatch'):\n",
    "    text = result['DisplayText'].replace(' ','')\n",
    "    print(text)\n",
    "    if text.find('일') != -1 or text.find('1')!=-1:\n",
    "        ser.write(b'A')\n",
    "    elif text.find('이') != -1:\n",
    "        ser.write(b'B')\n",
    "    elif text.find('삼')!=-1 or text.find('한')!=-1 or text.find('선')!=-1 or text.find('산')!=-1 or text.find('찬')!=-1:\n",
    "        ser.write(b'C')\n",
    "    elif text.find('사') != -1 or text.find('IV')!=-1 or text.find('자')!=-1 or text.find('차')!=-1:\n",
    "        ser.write(b'D')"
   ]
  },
  {
   "cell_type": "markdown",
   "metadata": {},
   "source": [
    "# 종료"
   ]
  },
  {
   "cell_type": "code",
   "execution_count": 16,
   "metadata": {},
   "outputs": [],
   "source": [
    "ser.close()"
   ]
  },
  {
   "cell_type": "code",
   "execution_count": 16,
   "metadata": {},
   "outputs": [
    {
     "name": "stdout",
     "output_type": "stream",
     "text": [
      "{'RecognitionStatus': 'NoMatch', 'Offset': 5500000, 'Duration': 0}\n"
     ]
    }
   ],
   "source": [
    "print(result)"
   ]
  },
  {
   "cell_type": "code",
   "execution_count": 25,
   "metadata": {},
   "outputs": [
    {
     "name": "stdout",
     "output_type": "stream",
     "text": [
      "오빠II일반여러\n"
     ]
    }
   ],
   "source": [
    "print(text)"
   ]
  },
  {
   "cell_type": "code",
   "execution_count": 26,
   "metadata": {},
   "outputs": [
    {
     "data": {
      "text/plain": [
       "4"
      ]
     },
     "execution_count": 26,
     "metadata": {},
     "output_type": "execute_result"
    }
   ],
   "source": [
    "text.find('일')"
   ]
  },
  {
   "cell_type": "code",
   "execution_count": null,
   "metadata": {},
   "outputs": [],
   "source": []
  }
 ],
 "metadata": {
  "kernelspec": {
   "display_name": "Python 3",
   "language": "python",
   "name": "python3"
  },
  "language_info": {
   "codemirror_mode": {
    "name": "ipython",
    "version": 3
   },
   "file_extension": ".py",
   "mimetype": "text/x-python",
   "name": "python",
   "nbconvert_exporter": "python",
   "pygments_lexer": "ipython3",
   "version": "3.6.4"
  }
 },
 "nbformat": 4,
 "nbformat_minor": 2
}
